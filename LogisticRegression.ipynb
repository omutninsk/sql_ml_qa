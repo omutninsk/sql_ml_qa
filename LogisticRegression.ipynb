{
 "cells": [
  {
   "cell_type": "code",
   "execution_count": null,
   "metadata": {},
   "outputs": [],
   "source": [
    "import numpy as np\n",
    "import pandas as pd\n",
    "import matplotlib.pyplot as plt\n",
    "from sklearn.linear_model import LogisticRegression\n",
    "from sklearn.dummy import DummyClassifier\n",
    "from sklearn.metrics import accuracy_score, precision_score, recall_score, \\\n",
    "                            f1_score, classification_report, confusion_matrix\n",
    "from sklearn.datasets import make_classification\n",
    "from sklearn.model_selection import train_test_split\n",
    "from sklearn.base import ClassifierMixin, BaseEstimator\n",
    "import warnings\n",
    "warnings.filterwarnings('ignore')\n",
    "\n",
    "%matplotlib inline"
   ]
  },
  {
   "cell_type": "code",
   "execution_count": null,
   "metadata": {},
   "outputs": [],
   "source": [
    "def generate_data(n_samples=10000, n_features=1):\n",
    "    X, y = make_classification(\n",
    "        n_features=2,\n",
    "        n_redundant=0,\n",
    "        n_informative=2,\n",
    "        n_clusters_per_class=1,\n",
    "        n_classes=2,\n",
    "        random_state=42,\n",
    "    )\n",
    "    return X, y"
   ]
  },
  {
   "cell_type": "code",
   "execution_count": null,
   "metadata": {},
   "outputs": [],
   "source": [
    "def plot_dataset(X, y):\n",
    "    plt.figure(figsize=(10,6))\n",
    "    plt.scatter(X[:, 0], X[:, 1], c=y, cmap='Spectral')\n",
    "    plt.show()"
   ]
  },
  {
   "cell_type": "code",
   "execution_count": null,
   "metadata": {},
   "outputs": [],
   "source": [
    "X, y = generate_data()\n",
    "plot_dataset(X, y)"
   ]
  },
  {
   "cell_type": "code",
   "execution_count": null,
   "metadata": {},
   "outputs": [],
   "source": [
    "X_train, X_test, y_train, y_test = train_test_split(\n",
    "    X, y, test_size = 0.25, random_state = 42\n",
    ")"
   ]
  },
  {
   "cell_type": "code",
   "execution_count": null,
   "metadata": {},
   "outputs": [],
   "source": [
    "plot_dataset(X_train, y_train)"
   ]
  },
  {
   "cell_type": "code",
   "execution_count": null,
   "metadata": {},
   "outputs": [],
   "source": [
    "plot_dataset(X_test, y_test)"
   ]
  },
  {
   "cell_type": "code",
   "execution_count": null,
   "metadata": {},
   "outputs": [],
   "source": [
    "#from sklearn.inspection import DecisionBoundaryDisplay\n",
    "def get_grid(data):\n",
    "    x_min, x_max = data[:, 0].min() - 1, data[:, 0].max() + 1\n",
    "    y_min, y_max = data[:, 1].min() - 1, data[:, 1].max() + 1\n",
    "    return np.meshgrid(np.arange(x_min, x_max, 0.01),\n",
    "                         np.arange(y_min, y_max, 0.01))"
   ]
  },
  {
   "cell_type": "code",
   "execution_count": null,
   "metadata": {},
   "outputs": [],
   "source": [
    "def plot_prediction(X, y, model):\n",
    "    xx, yy = get_grid(X)\n",
    "    predict = model.predict(np.c_[xx.ravel(), yy.ravel()]).reshape(xx.shape)\n",
    "    plt.figure(figsize=(10,6))\n",
    "    plt.pcolormesh(xx, yy, predict, cmap='Spectral')\n",
    "    plt.scatter(X[:, 0], X[:, 1], c=y, s=100, cmap='Spectral',edgecolors='k')\n",
    "    plt.show()"
   ]
  },
  {
   "cell_type": "code",
   "execution_count": null,
   "metadata": {},
   "outputs": [],
   "source": [
    "def print_metrics(true, predict):\n",
    "    acc = accuracy_score(y_test, predict)\n",
    "    prec = precision_score(y_test, predict)\n",
    "    recall = recall_score(true, predict)\n",
    "    f1 = f1_score(y_test, predict)\n",
    "    print(f'Results:\\naccuracy:   {acc:.3f}\\nprecision: {prec:.3f}\\nrecall:  {recall:.3f}\\nf1:  {f1:.3f}') \n",
    "    print(classification_report(y_test, predict))\n",
    "    print(confusion_matrix(y_test, predict))"
   ]
  },
  {
   "cell_type": "code",
   "execution_count": null,
   "metadata": {},
   "outputs": [],
   "source": [
    "class MyClassifier(BaseEstimator, ClassifierMixin):\n",
    "    def __init__(self, strategy = 'mean', iterations = 1000, alpha = 0.0001, verbose = False):\n",
    "        self.strategy = strategy\n",
    "        self.iterations = iterations\n",
    "        self.alpha = alpha\n",
    "        self.verbose = verbose\n",
    "        \n",
    "    def fit(self, X, y):\n",
    "        if self.strategy == 'most_frequent':\n",
    "            self.y_predict = np.argmax(np.bincount(y))\n",
    "        elif self.strategy == 'gradient_descent':\n",
    "            self.weights = np.zeros((3,1))\n",
    "            len_data = X.shape[0]\n",
    "            X_b = self.add_bias(X)\n",
    "            y = y.reshape(len_data, 1)\n",
    "            losses = []\n",
    "            for i in range(self.iterations):\n",
    "                predict = self.sigmoid(np.dot(X_b, self.weights))\n",
    "                loss = (y * np.log(predict)) + ((1 - y) * np.log(1 - predict)) \n",
    "                error = predict - y\n",
    "                self.weights = self.weights - (self.alpha/len_data) * np.dot(X_b.T, error)\n",
    "                losses.append(loss)\n",
    "                if self.verbose:\n",
    "                    if i%100==0:\n",
    "                        print(f'step: {i},error: {error.shape} loss:{loss}, weights: {self.weights}')\n",
    "            print(f'Weigths: {self.weights}')\n",
    "        \n",
    "    @staticmethod\n",
    "    def add_bias(X):\n",
    "        len_data = X.shape[0]\n",
    "        ones = np.ones(len_data).reshape(len_data, 1)\n",
    "        return np.concatenate((ones, X), 1)\n",
    "\n",
    "    @staticmethod\n",
    "    def sigmoid(x):    \n",
    "        return 1/(1 + np.exp(-x))\n",
    "    \n",
    "    def predict(self, X):\n",
    "        if self.strategy == 'most_frequent':\n",
    "            return np.array(X.shape[0] * [self.y_predict])\n",
    "        elif self.strategy == 'gradient_descent':\n",
    "            X_b = self.add_bias(X)\n",
    "            return (np.dot(X_b, self.weights).flatten() > 0).astype(int)"
   ]
  },
  {
   "cell_type": "code",
   "execution_count": null,
   "metadata": {},
   "outputs": [],
   "source": [
    "model = MyClassifier(strategy = 'most_frequent')\n",
    "model.fit(X_train, y_train)\n",
    "predict = model.predict(X_test)\n",
    "print_metrics(y_test, predict)"
   ]
  },
  {
   "cell_type": "code",
   "execution_count": null,
   "metadata": {},
   "outputs": [],
   "source": [
    "plot_prediction(X_test, y_test, model)"
   ]
  },
  {
   "cell_type": "code",
   "execution_count": null,
   "metadata": {},
   "outputs": [],
   "source": [
    "model = DummyClassifier(strategy='most_frequent')\n",
    "model.fit(X_train, y_train)\n",
    "predict = model.predict(X_test)\n",
    "print_metrics(y_test, predict)"
   ]
  },
  {
   "cell_type": "code",
   "execution_count": null,
   "metadata": {},
   "outputs": [],
   "source": [
    "plot_prediction(X_test, y_test, model)"
   ]
  },
  {
   "cell_type": "code",
   "execution_count": null,
   "metadata": {},
   "outputs": [],
   "source": [
    "pd.Series(y_train).value_counts()"
   ]
  },
  {
   "cell_type": "code",
   "execution_count": null,
   "metadata": {},
   "outputs": [],
   "source": [
    "pd.Series(y_test).value_counts()"
   ]
  },
  {
   "cell_type": "code",
   "execution_count": null,
   "metadata": {
    "scrolled": true
   },
   "outputs": [],
   "source": [
    "model = MyClassificator(strategy = 'gradient_descent', iterations = 100000, alpha = 0.001)\n",
    "model.fit(X_train, y_train)\n",
    "predict = model.predict(X_test)\n",
    "print_metrics(y_test, predict)"
   ]
  },
  {
   "cell_type": "code",
   "execution_count": null,
   "metadata": {},
   "outputs": [],
   "source": [
    "plot_prediction(X_test, y_test, model)"
   ]
  },
  {
   "cell_type": "code",
   "execution_count": null,
   "metadata": {},
   "outputs": [],
   "source": [
    "model = LogisticRegression()\n",
    "model.fit(X_train, y_train)\n",
    "predict = model.predict(X_test)\n",
    "print_metrics(y_test, predict)"
   ]
  },
  {
   "cell_type": "code",
   "execution_count": null,
   "metadata": {},
   "outputs": [],
   "source": [
    "plot_prediction(X_test, y_test, model)"
   ]
  },
  {
   "cell_type": "code",
   "execution_count": null,
   "metadata": {},
   "outputs": [],
   "source": []
  }
 ],
 "metadata": {
  "kernelspec": {
   "display_name": "Python 3",
   "language": "python",
   "name": "python3"
  },
  "language_info": {
   "codemirror_mode": {
    "name": "ipython",
    "version": 3
   },
   "file_extension": ".py",
   "mimetype": "text/x-python",
   "name": "python",
   "nbconvert_exporter": "python",
   "pygments_lexer": "ipython3",
   "version": "3.7.6"
  }
 },
 "nbformat": 4,
 "nbformat_minor": 4
}
