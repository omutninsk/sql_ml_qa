{
 "cells": [
  {
   "cell_type": "code",
   "execution_count": null,
   "metadata": {},
   "outputs": [],
   "source": [
    "import numpy as np\n",
    "import matplotlib.pyplot as plt\n",
    "from sklearn.linear_model import LinearRegression\n",
    "from sklearn.dummy import DummyRegressor\n",
    "from sklearn.metrics import r2_score, mean_squared_error, mean_absolute_error\n",
    "from sklearn.datasets import make_regression\n",
    "from sklearn.model_selection import train_test_split\n",
    "from sklearn.base import RegressorMixin, BaseEstimator\n",
    "import warnings\n",
    "warnings.filterwarnings('ignore')\n",
    "%matplotlib inline"
   ]
  },
  {
   "cell_type": "code",
   "execution_count": null,
   "metadata": {},
   "outputs": [],
   "source": [
    "def generate_data(n_samples=10000, n_features=1):\n",
    "    X, y = make_regression(\n",
    "        n_samples=n_samples,\n",
    "        n_features=n_features,\n",
    "        noise=15,\n",
    "        random_state=42,\n",
    "    )\n",
    "    return X, y"
   ]
  },
  {
   "cell_type": "code",
   "execution_count": null,
   "metadata": {},
   "outputs": [],
   "source": [
    "def plot_dataset(X, y):\n",
    "    plt.figure(figsize=(10,6))\n",
    "    plt.scatter(X, y)\n",
    "    plt.show()"
   ]
  },
  {
   "cell_type": "code",
   "execution_count": null,
   "metadata": {},
   "outputs": [],
   "source": [
    "X, y = generate_data()\n",
    "plot_dataset(X, y)"
   ]
  },
  {
   "cell_type": "code",
   "execution_count": null,
   "metadata": {},
   "outputs": [],
   "source": [
    "X_train, X_test, y_train, y_test = train_test_split(\n",
    "    X, y, test_size = 0.25, random_state = 42\n",
    ")"
   ]
  },
  {
   "cell_type": "code",
   "execution_count": null,
   "metadata": {},
   "outputs": [],
   "source": [
    "plot_dataset(X_train, y_train)"
   ]
  },
  {
   "cell_type": "code",
   "execution_count": null,
   "metadata": {},
   "outputs": [],
   "source": [
    "plot_dataset(X_test, y_test)"
   ]
  },
  {
   "cell_type": "code",
   "execution_count": null,
   "metadata": {},
   "outputs": [],
   "source": [
    "def plot_prediction(X, y, model):\n",
    "    plt.figure(figsize=(10,6))\n",
    "    plt.scatter(X, y)\n",
    "    grid = np.arange(np.min(X), np.max(X), 0.1).reshape(-1, 1)\n",
    "    plt.plot(grid, model.predict(grid), 'red')\n",
    "    plt.show()"
   ]
  },
  {
   "cell_type": "code",
   "execution_count": null,
   "metadata": {},
   "outputs": [],
   "source": [
    "def print_metrics(true, predict):\n",
    "    r2 = r2_score(y_test, predict)\n",
    "    rmse = mean_squared_error(y_test, predict)**0.5\n",
    "    #rmse1 = mean_squared_error(true, predict, squared=False)\n",
    "    mae = mean_absolute_error(y_test, predict)\n",
    "    #print(rmse, rmse1)\n",
    "    print(f'Results:\\nr2:   {r2:.3f}\\nrmse: {rmse:.3f}\\nmae:  {mae:.3f}') "
   ]
  },
  {
   "cell_type": "code",
   "execution_count": null,
   "metadata": {
    "code_folding": []
   },
   "outputs": [],
   "source": [
    "class MyRegressor(BaseEstimator, RegressorMixin):\n",
    "    def __init__(self, strategy = 'mean', iterations = 1000, alpha = 0.0001, verbose = False):\n",
    "        self.strategy = strategy\n",
    "        self.iterations = iterations\n",
    "        self.alpha = alpha\n",
    "        self.verbose = verbose\n",
    "        \n",
    "    def fit(self, X, y):\n",
    "        if self.strategy == 'mean':\n",
    "            self.y_predict = np.mean(y)\n",
    "        elif self.strategy == 'median':\n",
    "            self.y_predict = np.median(y)\n",
    "        elif self.strategy == 'analytic':\n",
    "            X_b = self.add_bias(X)\n",
    "            self.weights = np.linalg.inv(X_b.T.dot(X_b)).dot(X_b.T).dot(y)\n",
    "        elif self.strategy == 'gradient_descent':\n",
    "            self.weights = np.zeros((2,1))\n",
    "            len_data = X.shape[0]\n",
    "            X_b = self.add_bias(X)\n",
    "            y = y.reshape(len_data, 1)\n",
    "            losses = []\n",
    "            for i in range(self.iterations):\n",
    "                predict = np.dot(X_b, self.weights)\n",
    "                loss = mean_squared_error(y, predict)\n",
    "                error = predict - y\n",
    "                self.weights = self.weights - (self.alpha/len_data) * np.dot(X_b.T, error)\n",
    "                losses.append(loss)\n",
    "                if self.verbose:\n",
    "                    if i%100==0:\n",
    "                        print(f'step: {i},error: {error.shape} loss:{loss}, weights: {self.weights}')\n",
    "            print(f'Weigths: {self.weights}')\n",
    "        \n",
    "    @staticmethod\n",
    "    def add_bias(X):\n",
    "        len_data = X.shape[0]\n",
    "        ones = np.ones(len_data).reshape(len_data, 1)\n",
    "        return np.concatenate((ones, X), 1)\n",
    "        \n",
    "    def predict(self, X):\n",
    "        if self.strategy == 'mean' or self.strategy == 'median':\n",
    "            return np.ones(X.shape[0]) * self.y_predict\n",
    "        elif self.strategy == 'analytic' or self.strategy == 'gradient_descent':\n",
    "            X_b = self.add_bias(X)\n",
    "            return np.dot(X_b, self.weights)"
   ]
  },
  {
   "cell_type": "code",
   "execution_count": null,
   "metadata": {},
   "outputs": [],
   "source": [
    "model = MyRegressor(strategy = 'mean')\n",
    "model.fit(X_train, y_train)\n",
    "predict = model.predict(X_test)\n",
    "print_metrics(y_test, predict)"
   ]
  },
  {
   "cell_type": "code",
   "execution_count": null,
   "metadata": {},
   "outputs": [],
   "source": [
    "plot_prediction(X_test, y_test, model)"
   ]
  },
  {
   "cell_type": "code",
   "execution_count": null,
   "metadata": {},
   "outputs": [],
   "source": [
    "model = DummyRegressor(strategy='mean')\n",
    "model.fit(X_train, y_train)\n",
    "predict = model.predict(X_test)\n",
    "print_metrics(y_test, predict)"
   ]
  },
  {
   "cell_type": "code",
   "execution_count": null,
   "metadata": {},
   "outputs": [],
   "source": [
    "model = MyRegressor(strategy = 'median')\n",
    "model.fit(X_train, y_train)\n",
    "predict = model.predict(X_test)\n",
    "print_metrics(y_test, predict)"
   ]
  },
  {
   "cell_type": "code",
   "execution_count": null,
   "metadata": {},
   "outputs": [],
   "source": [
    "model = DummyRegressor(strategy='median')\n",
    "model.fit(X_train, y_train)\n",
    "predict = model.predict(X_test)\n",
    "print_metrics(y_test, predict)"
   ]
  },
  {
   "cell_type": "code",
   "execution_count": null,
   "metadata": {},
   "outputs": [],
   "source": [
    "model = MyRegressor(strategy = 'analytic')\n",
    "model.fit(X_train, y_train)\n",
    "predict = model.predict(X_test)\n",
    "print_metrics(y_test, predict)"
   ]
  },
  {
   "cell_type": "code",
   "execution_count": null,
   "metadata": {},
   "outputs": [],
   "source": [
    "plot_prediction(X_test, y_test, model)"
   ]
  },
  {
   "cell_type": "code",
   "execution_count": null,
   "metadata": {
    "scrolled": true
   },
   "outputs": [],
   "source": [
    "model = MyRegressor(strategy = 'gradient_descent', iterations = 10000, alpha = 0.001)\n",
    "model.fit(X_train, y_train)\n",
    "predict = model.predict(X_test)\n",
    "print_metrics(y_test, predict)"
   ]
  },
  {
   "cell_type": "code",
   "execution_count": null,
   "metadata": {},
   "outputs": [],
   "source": [
    "plot_prediction(X_test, y_test, model)"
   ]
  },
  {
   "cell_type": "code",
   "execution_count": null,
   "metadata": {},
   "outputs": [],
   "source": [
    "model = LinearRegression()\n",
    "model.fit(X_train, y_train)\n",
    "predict = model.predict(X_test)\n",
    "print_metrics(y_test, predict)"
   ]
  },
  {
   "cell_type": "code",
   "execution_count": null,
   "metadata": {},
   "outputs": [],
   "source": [
    "plot_prediction(X_test, y_test, model)"
   ]
  },
  {
   "cell_type": "code",
   "execution_count": null,
   "metadata": {},
   "outputs": [],
   "source": []
  }
 ],
 "metadata": {
  "kernelspec": {
   "display_name": "Python 3",
   "language": "python",
   "name": "python3"
  },
  "language_info": {
   "codemirror_mode": {
    "name": "ipython",
    "version": 3
   },
   "file_extension": ".py",
   "mimetype": "text/x-python",
   "name": "python",
   "nbconvert_exporter": "python",
   "pygments_lexer": "ipython3",
   "version": "3.7.6"
  }
 },
 "nbformat": 4,
 "nbformat_minor": 4
}
